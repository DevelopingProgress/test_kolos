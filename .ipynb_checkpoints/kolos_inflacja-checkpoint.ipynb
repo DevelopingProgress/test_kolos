{
 "cells": [
  {
   "cell_type": "code",
   "execution_count": 18,
   "id": "d0b74c07-7705-4eb7-a45a-1a1e5e36e8fb",
   "metadata": {},
   "outputs": [],
   "source": [
    "import pandas as pd\n",
    "import matplotlib.pyplot as plt\n",
    "import html5lib\n",
    "data = pd.read_excel('inflacja.xlsx', index_col=None, header=None, engine='openpyxl', sheet_name='TABLICA', skiprows=3)"
   ]
  },
  {
   "cell_type": "code",
   "execution_count": 19,
   "id": "65b12c2e-0e9c-4c96-b931-fc74cc73dfd0",
   "metadata": {},
   "outputs": [
    {
     "name": "stdout",
     "output_type": "stream",
     "text": [
      "          0                    1      2      3      4\n",
      "0    200000         DOLNOŚLĄSKIE  103.1  105.5  104.8\n",
      "1    400000   KUJAWSKO-POMORSKIE  103.6  105.7  105.4\n",
      "2    600000            LUBELSKIE  102.8  105.1  104.2\n",
      "3    800000             LUBUSKIE  103.0  104.7  103.2\n",
      "4   1000000              ŁÓDZKIE  103.6  106.7  105.9\n",
      "5   1200000          MAŁOPOLSKIE  104.3  107.5  105.0\n",
      "6   1400000          MAZOWIECKIE  103.3  105.0  105.3\n",
      "7   1600000             OPOLSKIE  103.1  105.3  104.8\n",
      "8   1800000         PODKARPACKIE  103.2  105.1  103.8\n",
      "9   2000000            PODLASKIE  103.0  105.8  104.7\n",
      "10  2200000            POMORSKIE  103.4  106.2  104.9\n",
      "11  2400000              ŚLĄSKIE  103.6  105.6  105.2\n",
      "12  2600000       ŚWIĘTOKRZYSKIE  103.5  105.7  103.9\n",
      "13  2800000  WARMIŃSKO-MAZURSKIE  103.6  106.3  104.2\n",
      "14  3000000        WIELKOPOLSKIE  103.5  106.1  104.7\n",
      "15  3200000   ZACHODNIOPOMORSKIE  103.6  106.1  105.0\n"
     ]
    }
   ],
   "source": [
    "print(data)"
   ]
  },
  {
   "cell_type": "code",
   "execution_count": 106,
   "id": "e29f4fa0-5607-4e15-a6e8-154d8d4e702a",
   "metadata": {},
   "outputs": [
    {
     "name": "stdout",
     "output_type": "stream",
     "text": [
      "                      1    2    3    4\n",
      "0          DOLNOŚLĄSKIE  3.1  5.5  4.8\n",
      "1    KUJAWSKO-POMORSKIE  3.6  5.7  5.4\n",
      "2             LUBELSKIE  2.8  5.1  4.2\n",
      "3              LUBUSKIE  3.0  4.7  3.2\n",
      "4               ŁÓDZKIE  3.6  6.7  5.9\n",
      "5           MAŁOPOLSKIE  4.3  7.5  5.0\n",
      "6           MAZOWIECKIE  3.3  5.0  5.3\n",
      "7              OPOLSKIE  3.1  5.3  4.8\n",
      "8          PODKARPACKIE  3.2  5.1  3.8\n",
      "9             PODLASKIE  3.0  5.8  4.7\n",
      "10            POMORSKIE  3.4  6.2  4.9\n",
      "11              ŚLĄSKIE  3.6  5.6  5.2\n",
      "12       ŚWIĘTOKRZYSKIE  3.5  5.7  3.9\n",
      "13  WARMIŃSKO-MAZURSKIE  3.6  6.3  4.2\n",
      "14        WIELKOPOLSKIE  3.5  6.1  4.7\n",
      "15   ZACHODNIOPOMORSKIE  3.6  6.1  5.0\n"
     ]
    }
   ],
   "source": [
    "#1\n",
    "data_inflation = data[[(2), (3), (4)]]\n",
    "data_inflation = data_inflation - 100\n",
    "data_states = data[[(1)]]\n",
    "data_inlation_states = pd.concat([data_states, data_inflation], axis=1)\n",
    "print(data_inlation_states)"
   ]
  },
  {
   "cell_type": "code",
   "execution_count": 107,
   "id": "aed2872f-2370-4418-acc7-a7405b9e0e86",
   "metadata": {},
   "outputs": [
    {
     "name": "stdout",
     "output_type": "stream",
     "text": [
      "Średnia ogólna: 3.3874999999999975\n",
      "                      1    2    3    4\n",
      "1    KUJAWSKO-POMORSKIE  3.6  5.7  5.4\n",
      "4               ŁÓDZKIE  3.6  6.7  5.9\n",
      "5           MAŁOPOLSKIE  4.3  7.5  5.0\n",
      "10            POMORSKIE  3.4  6.2  4.9\n",
      "11              ŚLĄSKIE  3.6  5.6  5.2\n",
      "12       ŚWIĘTOKRZYSKIE  3.5  5.7  3.9\n",
      "13  WARMIŃSKO-MAZURSKIE  3.6  6.3  4.2\n",
      "14        WIELKOPOLSKIE  3.5  6.1  4.7\n",
      "15   ZACHODNIOPOMORSKIE  3.6  6.1  5.0\n"
     ]
    }
   ],
   "source": [
    "#2\n",
    "data_inlation_states_mean = data_inlation_states[2].mean()\n",
    "print('Średnia ogólna:', data_inlation_states_mean)\n",
    "print(data_inlation_states[data_inlation_states[(2)] > data_inflation_mean])\n"
   ]
  },
  {
   "cell_type": "code",
   "execution_count": null,
   "id": "cdee14be-ad94-4ea0-83db-7659dfa03bea",
   "metadata": {},
   "outputs": [],
   "source": []
  },
  {
   "cell_type": "code",
   "execution_count": null,
   "id": "2a9e467a-9e86-42fd-9b6a-492d54fd7ec5",
   "metadata": {},
   "outputs": [],
   "source": []
  }
 ],
 "metadata": {
  "kernelspec": {
   "display_name": "Python 3",
   "language": "python",
   "name": "python3"
  },
  "language_info": {
   "codemirror_mode": {
    "name": "ipython",
    "version": 3
   },
   "file_extension": ".py",
   "mimetype": "text/x-python",
   "name": "python",
   "nbconvert_exporter": "python",
   "pygments_lexer": "ipython3",
   "version": "3.6.4"
  }
 },
 "nbformat": 4,
 "nbformat_minor": 5
}
